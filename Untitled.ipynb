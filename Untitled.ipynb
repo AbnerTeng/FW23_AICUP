{
 "cells": [
  {
   "cell_type": "code",
   "execution_count": 2,
   "id": "84603041-948a-4fdf-92fc-c45c483bf842",
   "metadata": {},
   "outputs": [],
   "source": [
    "import pandas as pd\n",
    "import numpy as np"
   ]
  },
  {
   "cell_type": "code",
   "execution_count": 21,
   "id": "55942396-5438-4603-b746-c252072fa83b",
   "metadata": {},
   "outputs": [],
   "source": [
    "df = pd.read_csv('data/external_data/捷運站點資料.csv')"
   ]
  },
  {
   "cell_type": "code",
   "execution_count": 22,
   "id": "6db365f0-d4d7-4706-843f-66232bbcc178",
   "metadata": {},
   "outputs": [
    {
     "name": "stdout",
     "output_type": "stream",
     "text": [
      "<class 'pandas.core.frame.DataFrame'>\n",
      "RangeIndex: 239 entries, 0 to 238\n",
      "Data columns (total 7 columns):\n",
      " #   Column     Non-Null Count  Dtype  \n",
      "---  ------     --------------  -----  \n",
      " 0   站點UID      239 non-null    object \n",
      " 1   站點ID       239 non-null    object \n",
      " 2   站點名稱       239 non-null    object \n",
      " 3   站點地址       213 non-null    object \n",
      " 4   假日自行車進出與否  239 non-null    bool   \n",
      " 5   lat        239 non-null    float64\n",
      " 6   lng        239 non-null    float64\n",
      "dtypes: bool(1), float64(2), object(4)\n",
      "memory usage: 11.6+ KB\n",
      "None\n"
     ]
    }
   ],
   "source": [
    "print(df.info())"
   ]
  },
  {
   "cell_type": "code",
   "execution_count": 23,
   "id": "89ca94d3-1773-41be-9d54-d6c7ba693d9c",
   "metadata": {},
   "outputs": [
    {
     "name": "stdout",
     "output_type": "stream",
     "text": [
      "站點UID        239\n",
      "站點ID         218\n",
      "站點名稱         219\n",
      "站點地址         201\n",
      "假日自行車進出與否      2\n",
      "lat          222\n",
      "lng          223\n",
      "dtype: int64\n"
     ]
    }
   ],
   "source": [
    "print(df.nunique())"
   ]
  },
  {
   "cell_type": "code",
   "execution_count": null,
   "id": "07e74610-e6e2-4806-a085-aec60e0dfded",
   "metadata": {},
   "outputs": [],
   "source": []
  }
 ],
 "metadata": {
  "kernelspec": {
   "display_name": "Python 3 (ipykernel)",
   "language": "python",
   "name": "python3"
  },
  "language_info": {
   "codemirror_mode": {
    "name": "ipython",
    "version": 3
   },
   "file_extension": ".py",
   "mimetype": "text/x-python",
   "name": "python",
   "nbconvert_exporter": "python",
   "pygments_lexer": "ipython3",
   "version": "3.9.7"
  }
 },
 "nbformat": 4,
 "nbformat_minor": 5
}
