{
 "cells": [
  {
   "cell_type": "code",
   "execution_count": 3,
   "id": "90b7477b-9687-4389-ac2b-8bc6e8e0e592",
   "metadata": {
    "tags": []
   },
   "outputs": [],
   "source": [
    "raw_data['縣市_鄉鎮市區'] = raw_data['縣市'] + '_' + raw_data['鄉鎮市區']\n",
    "\n",
    "selected_X = train[feat_cols]\n",
    "cat_X = raw_data[cat_cols+['單價']]\n",
    "X = pd.concat([selected_X, cat_X], axis=1)\n",
    "Y = pd.read_csv(\"../data/train_output.csv\")\n",
    "Y = np.log(Y)\n",
    "\n",
    "test = pd.read_csv(\"../data/test_feat.csv\")\n",
    "private_org = pd.read_csv(\"../data/private_dataset_org.csv\") \n",
    "private_test = pd.read_csv(\"../data/private_dataset.csv\")\n",
    "private_org['縣市_鄉鎮市區'] = private_org['縣市'] + '_' + private_org['鄉鎮市區']\n",
    "\n",
    "raw_test_data = pd.read_csv(\"../data/public_dataset.csv\")\n",
    "raw_test_data['縣市_鄉鎮市區'] = raw_test_data['縣市'] + '_' + raw_test_data['鄉鎮市區']\n",
    "selected_X = test[feat_cols]\n",
    "selected_private_X = private_test[feat_cols]\n",
    "cat_X = raw_test_data[cat_cols]\n",
    "cat_X_private = private_org[cat_cols]\n",
    "X_test = pd.concat([selected_X, cat_X], axis=1)\n",
    "private_X_test = pd.concat([selected_private_X, cat_X_private], axis=1)"
   ]
  },
  {
   "cell_type": "code",
   "execution_count": 4,
   "id": "9891c3e7-d1ce-4239-aad7-86b956bc527b",
   "metadata": {
    "tags": []
   },
   "outputs": [],
   "source": [
    "N_min = 10\n",
    "\n",
    "for col in cat_cols:\n",
    "    # print(f\"now at {col}\")\n",
    "    le = LabelEncoder()\n",
    "    tmp = np.concatenate([X[col], X_test[col]])\n",
    "    le.fit(np.concatenate([tmp, private_X_test[col]]))\n",
    "    X[col] = le.transform(X[col])\n",
    "    X_test[col] = le.transform(X_test[col])\n",
    "    private_X_test[col] = le.transform(private_X_test[col])\n",
    "\n",
    "x_train, x_valid, y_train, y_valid = train_test_split(X, Y, test_size=0.2, random_state=507)\n",
    "x_train.reset_index(inplace=True, drop=True)\n",
    "x_valid.reset_index(inplace=True, drop=True)\n",
    "y_train.reset_index(inplace=True, drop=True)\n",
    "y_valid.reset_index(inplace=True, drop=True)\n",
    "y_valid = np.exp(y_valid)\n",
    "\n",
    "\n",
    "for c in cat_cols:\n",
    "    # fit encoder\n",
    "    be = BetaEncoder(c)\n",
    "    be.fit(x_train, '單價')\n",
    "    # mean\n",
    "    feature_name = f'{c}_mean'\n",
    "    x_train[feature_name] = be.transform(x_train, 'mean', N_min)\n",
    "    x_valid[feature_name] = be.transform(x_valid, 'mean', N_min)\n",
    "    X_test[feature_name] = be.transform(X_test, 'mean', N_min)\n",
    "    private_X_test[feature_name] = be.transform(private_X_test, 'mean', N_min)\n",
    "\n",
    "x_train = x_train.drop(['單價']+cat_cols,axis=1)\n",
    "x_valid = x_valid.drop(['單價']+cat_cols,axis=1)\n",
    "X_test = X_test.drop(cat_cols,axis=1)\n",
    "private_X_test = private_X_test.drop(cat_cols,axis=1)"
   ]
  },
  {
   "cell_type": "code",
   "execution_count": null,
   "id": "95a4d4cb-6a97-48c0-b2b0-1ff27f6ce4af",
   "metadata": {
    "tags": []
   },
   "outputs": [],
   "source": [
    "print(\n",
    "    f\"Train shape: {x_train.shape}, {y_train.shape}, \\\n",
    "        Valid shape: {x_valid.shape}, {y_valid.shape}\"\n",
    ")\n",
    "\n",
    "stack_model = stacking()\n",
    "stack_model.fit(x_train, y_train)\n",
    "y_pred = stack_model.predict(x_valid)\n",
    "y_pred = np.exp(y_pred)\n",
    "mape = mean_absolute_percentage_error(y_valid, y_pred)\n",
    "print(f\"MAPE: {mape * 100}\")\n",
    "public_pred = np.exp(stack_model.predict(X_test))\n",
    "private_pred = np.exp(stack_model.predict(private_X_test))\n",
    "sub_data.loc[:5876, 'predicted_price'] = public_pred\n",
    "sub_data.loc[5876:, 'predicted_price'] = private_pred\n",
    "sub_data.to_csv(f\"{os.getcwd()}/data/public_private_submission_stack_v2.csv\", index=False)"
   ]
  },
  {
   "cell_type": "code",
   "execution_count": null,
   "id": "28035638-ea4c-4eb6-9103-7438bc829169",
   "metadata": {
    "tags": []
   },
   "outputs": [],
   "source": [
    "sub_data['predicted_price'][:5876] = public_pred\n",
    "sub_data['predicted_price'][5876:] = private_pred\n",
    "sub_data.to_csv(f\"../data/public_private_submission_stack_v2.csv\", index=False)"
   ]
  }
 ],
 "metadata": {
  "kernelspec": {
   "display_name": "Python 3 (ipykernel)",
   "language": "python",
   "name": "python3"
  },
  "language_info": {
   "codemirror_mode": {
    "name": "ipython",
    "version": 3
   },
   "file_extension": ".py",
   "mimetype": "text/x-python",
   "name": "python",
   "nbconvert_exporter": "python",
   "pygments_lexer": "ipython3",
   "version": "3.10.9"
  }
 },
 "nbformat": 4,
 "nbformat_minor": 5
}
